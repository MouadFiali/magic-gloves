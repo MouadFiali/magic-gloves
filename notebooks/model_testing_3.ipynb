{
 "cells": [
  {
   "cell_type": "markdown",
   "metadata": {},
   "source": [
    "# Introduction\n",
    "This notebook explores the impact of sensor reduction on the model's ability to differentiate between similar sign language movements. By limiting the data to a specific combination of sensors that remain consistent across movements, we aim to understand how sensor selection influences the model's accuracy and ability to distinguish between similar signs, based on out current dataset.\n"
   ]
  },
  {
   "cell_type": "code",
   "execution_count": null,
   "metadata": {},
   "outputs": [],
   "source": [
    "import numpy as np\n",
    "import pandas as pd\n",
    "from sklearn.model_selection import train_test_split\n",
    "from sklearn.preprocessing import MinMaxScaler, OneHotEncoder\n",
    "from keras.models import Sequential\n",
    "from keras.layers import SimpleRNN, Dense, Dropout\n",
    "from keras.callbacks import EarlyStopping\n",
    "from keras.layers import SimpleRNN, Bidirectional, BatchNormalization\n"
   ]
  },
  {
   "cell_type": "markdown",
   "metadata": {},
   "source": [
    "# Data Preparation and Columns Reduction\n",
    "In this section, we use a function to prepare our existing dataset, on which the model will be training, by selecting a specific combination of columns. This selection will, in the next sections, be adapted to two scenarios : Sensors' Reduction and Recording Frequency Deceleration.\n"
   ]
  },
  {
   "cell_type": "code",
   "execution_count": 3,
   "metadata": {},
   "outputs": [],
   "source": [
    "def prepare_dataframe(dataframes, prefixes, suffixes):\n",
    "    # Concatenate the dataframes\n",
    "    df = pd.concat(dataframes, ignore_index=True)\n",
    "\n",
    "    # Identify columns to keep based on sensor names\n",
    "    cols_to_keep = []\n",
    "    for prefix in prefixes or ['']:\n",
    "        for suffix in suffixes or ['']:\n",
    "            cols_to_keep.extend([col for col in df.columns if col.startswith(prefix) and col.endswith(suffix)])\n",
    "\n",
    "    # Add the last column to the list of columns to keep\n",
    "    cols_to_keep.append(df.columns[-1])\n",
    "\n",
    "    # Keep only the columns corresponding to the sensors in sensors_to_keep\n",
    "    df = df[cols_to_keep]\n",
    "\n",
    "    return df"
   ]
  },
  {
   "cell_type": "code",
   "execution_count": 29,
   "metadata": {},
   "outputs": [],
   "source": [
    "def train_model(dataframes, prefixes, suffixes):\n",
    "\n",
    "    # Keep only the columns corresponding to the sensors in sensors_to_keep\n",
    "    df = prepare_dataframe(dataframes, prefixes, suffixes)\n",
    "    print(df.columns)\n",
    "\n",
    "    # Convert all feature columns to numeric and set non-convertible values to NaN\n",
    "    for col in df.columns[:-1]:  # Excluding the last column\n",
    "        df[col] = pd.to_numeric(df[col], errors='coerce')\n",
    "\n",
    "    # Removing rows with NaN values\n",
    "    df.dropna(inplace=True)\n",
    "\n",
    "    # Separate features and labels\n",
    "    X = df.iloc[:, :-1].values  # All columns except the last one\n",
    "    y = df.iloc[:, -1].values   # Only the last column\n",
    "\n",
    "    # Scale the features\n",
    "    scaler = MinMaxScaler()\n",
    "    X = scaler.fit_transform(X)\n",
    "\n",
    "    # Reshape X to fit the RNN model (samples, time steps, features)\n",
    "    X = X.reshape((X.shape[0], 1, X.shape[1]))\n",
    "\n",
    "    # Encode the labels\n",
    "    encoder = OneHotEncoder(sparse=False)\n",
    "    y_encoded = encoder.fit_transform(y.reshape(-1, 1))\n",
    "\n",
    "    # Define the RNN model\n",
    "    model_rnn = Sequential()\n",
    "    model_rnn.add(Bidirectional(SimpleRNN(30, activation='relu', return_sequences=True), input_shape=(X.shape[1], X.shape[2])))\n",
    "    model_rnn.add(BatchNormalization())\n",
    "    model_rnn.add(SimpleRNN(32, activation='relu'))\n",
    "    model_rnn.add(Dropout(0.3))\n",
    "    model_rnn.add(Dense(16, activation='relu'))\n",
    "    model_rnn.add(Dense(y_encoded.shape[1], activation='softmax'))\n",
    "\n",
    "    # Compile the model with categorical_crossentropy loss function\n",
    "    model_rnn.compile(optimizer='adam', loss='categorical_crossentropy', metrics=['accuracy'])\n",
    "\n",
    "    # Add EarlyStopping as a callback\n",
    "    early_stopping = EarlyStopping(monitor='val_loss', patience=10, restore_best_weights=True)\n",
    "\n",
    "    # Split the dataset into training and testing sets\n",
    "    X_train, X_test, y_train, y_test = train_test_split(X, y_encoded, test_size=0.2, random_state=42)\n",
    "\n",
    "    # Train the model\n",
    "    history = model_rnn.fit(X_train, y_train, epochs=100, validation_data=(X_test, y_test), callbacks=[early_stopping])\n",
    "    return history\n"
   ]
  },
  {
   "cell_type": "code",
   "execution_count": 6,
   "metadata": {},
   "outputs": [],
   "source": [
    "df_1 = pd.read_csv('../dataset/sensor_data_badr.csv')\n",
    "df_2 = pd.read_csv('../dataset/sensor_data_mouad.csv')\n",
    "df_3 = pd.read_csv('../dataset/sensor_data_ismail.csv')"
   ]
  },
  {
   "cell_type": "markdown",
   "metadata": {},
   "source": [
    "# Model Training and Evaluation with Reduced Sensor Data\n",
    "Here, we retrain our model using the reduced sensor dataset. The columns' selection is based on the hypothesis that these sensors will provide similar readings across different sign language movements, thereby challenging the model's differentiation capability. The focus is to observe how the model performs when provided with data that is potentially less distinctive between different signs."
   ]
  },
  {
   "cell_type": "code",
   "execution_count": null,
   "metadata": {},
   "outputs": [],
   "source": [
    "prefixes = ['Flex-Right-1']\n",
    "\n",
    "history = train_model([df_1, df_2, df_3], prefixes, None)\n",
    "\n",
    "# Access the loss and accuracy values\n",
    "train_loss = history.history['loss']\n",
    "val_loss = history.history['val_loss']\n",
    "train_accuracy = history.history['accuracy']\n",
    "val_accuracy = history.history['val_accuracy']\n",
    "\n",
    "print('Train loss: ',train_loss[-1])\n",
    "print('Validation loss: ', val_loss[-1])\n",
    "print('Train accuracy: ', train_accuracy[-1])\n",
    "print('Validation accuracy: ', val_accuracy[-1])"
   ]
  },
  {
   "cell_type": "markdown",
   "metadata": {},
   "source": [
    "# Model Training with Reduced Recording Frequency\n",
    "Here, we retrain our model using the reduced recording frequency. This means that the columns' selection is based on the recution of the number of frames for each sign, thereby challenging the model's robustness. The focus is to observe how the model performs when provided with less detailed sequence of frames."
   ]
  },
  {
   "cell_type": "code",
   "execution_count": 21,
   "metadata": {},
   "outputs": [],
   "source": [
    "# Impement a function that takes an integer n as parameters, and appends to a list the strings 'Frame-k', where k%n == 0 and k<=20\n",
    "# In order to simulate reduced recording frequency\n",
    "def get_frame_names(n):\n",
    "    frame_names = []\n",
    "    for k in range(1, 21):\n",
    "        if k % n == 0:\n",
    "            frame_names.append('Frame-' + str(k))\n",
    "    return frame_names"
   ]
  },
  {
   "cell_type": "code",
   "execution_count": null,
   "metadata": {},
   "outputs": [],
   "source": [
    "suffixes = get_frame_names(4)\n",
    "print(suffixes)\n",
    "\n",
    "history = train_model([df_1, df_2, df_3], None, suffixes)\n",
    "\n",
    "# Access the loss and accuracy values\n",
    "train_loss = history.history['loss']\n",
    "val_loss = history.history['val_loss']\n",
    "train_accuracy = history.history['accuracy']\n",
    "val_accuracy = history.history['val_accuracy']\n",
    "\n",
    "print('Train loss: ',train_loss[-1])\n",
    "print('Validation loss: ', val_loss[-1])\n",
    "print('Train accuracy: ', train_accuracy[-1])\n",
    "print('Validation accuracy: ', val_accuracy[-1])"
   ]
  },
  {
   "cell_type": "markdown",
   "metadata": {},
   "source": [
    "# Conclusion\n",
    "The results of this experiment underscore the importance of sensor diversity in the precise interpretation of sign language. The model's performance under reduced sensor data underscores the difficulty in distinguishing similar signs and suggests a potential requirement for a comprehensive sensor setup to attain optimal accuracy. Additionally, the model maintained its high performance even when presented with a less detailed sequence of frames, supporting the hypothesis that the model's accuracy is attributable to the distinct nature of the performed signs."
   ]
  }
 ],
 "metadata": {
  "kernelspec": {
   "display_name": "magic-gloves-env",
   "language": "python",
   "name": "python3"
  },
  "language_info": {
   "codemirror_mode": {
    "name": "ipython",
    "version": 3
   },
   "file_extension": ".py",
   "mimetype": "text/x-python",
   "name": "python",
   "nbconvert_exporter": "python",
   "pygments_lexer": "ipython3",
   "version": "3.11.3"
  }
 },
 "nbformat": 4,
 "nbformat_minor": 2
}
