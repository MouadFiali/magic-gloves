{
 "cells": [
  {
   "cell_type": "code",
   "execution_count": 1,
   "metadata": {},
   "outputs": [
    {
     "name": "stdout",
     "output_type": "stream",
     "text": [
      "WARNING:tensorflow:From c:\\Users\\mouad\\AppData\\Local\\Programs\\Python\\Python311\\Lib\\site-packages\\keras\\src\\losses.py:2976: The name tf.losses.sparse_softmax_cross_entropy is deprecated. Please use tf.compat.v1.losses.sparse_softmax_cross_entropy instead.\n",
      "\n"
     ]
    }
   ],
   "source": [
    "import numpy as np\n",
    "import pandas as pd\n",
    "from sklearn.model_selection import train_test_split\n",
    "from sklearn.preprocessing import MinMaxScaler, OneHotEncoder\n",
    "from keras.models import Sequential\n",
    "from keras.layers import SimpleRNN, Dense, Dropout\n",
    "from keras.callbacks import EarlyStopping\n",
    "from sklearn.metrics import accuracy_score\n",
    "import joblib\n",
    "import matplotlib.pyplot as plt\n",
    "from keras.layers import SimpleRNN, Bidirectional, BatchNormalization\n",
    "from sklearn.metrics import precision_score, recall_score, f1_score, confusion_matrix"
   ]
  },
  {
   "cell_type": "code",
   "execution_count": 75,
   "metadata": {},
   "outputs": [],
   "source": [
    "df_1 = pd.read_csv('dataset/sensor_data_badr.csv')\n",
    "df_2 = pd.read_csv('dataset/sensor_data_kamal.csv')\n",
    "df_3 = pd.read_csv('dataset/sensor_data_ismail.csv')\n",
    "# Concatenate the three dataframes\n",
    "df = pd.concat([df_1, df_2, df_3], ignore_index=True)"
   ]
  },
  {
   "cell_type": "code",
   "execution_count": 76,
   "metadata": {},
   "outputs": [
    {
     "name": "stdout",
     "output_type": "stream",
     "text": [
      "(1690, 441)\n"
     ]
    }
   ],
   "source": [
    "# number of rows and columns\n",
    "print(df.shape)"
   ]
  },
  {
   "cell_type": "code",
   "execution_count": 77,
   "metadata": {},
   "outputs": [],
   "source": [
    "# Convert all feature columns to numeric and set non-convertible values to NaN\n",
    "for col in df.columns[:-1]:  # Excluding the last column\n",
    "    df[col] = pd.to_numeric(df[col], errors='coerce')"
   ]
  },
  {
   "cell_type": "code",
   "execution_count": 78,
   "metadata": {},
   "outputs": [],
   "source": [
    "# Removing rows with NaN values\n",
    "df.dropna(inplace=True)"
   ]
  },
  {
   "cell_type": "code",
   "execution_count": 79,
   "metadata": {},
   "outputs": [],
   "source": [
    "# Separate features and labels\n",
    "X = df.iloc[:, :-1].values  # All columns except the last one\n",
    "y = df.iloc[:, -1].values   # Only the last column"
   ]
  },
  {
   "cell_type": "code",
   "execution_count": 80,
   "metadata": {},
   "outputs": [],
   "source": [
    "# Scale the features\n",
    "scaler = MinMaxScaler()\n",
    "X = scaler.fit_transform(X)"
   ]
  },
  {
   "cell_type": "code",
   "execution_count": 81,
   "metadata": {},
   "outputs": [],
   "source": [
    "# Reshape X to fit the RNN model (samples, time steps, features)\n",
    "X = X.reshape((X.shape[0], 1, X.shape[1]))"
   ]
  },
  {
   "cell_type": "code",
   "execution_count": 82,
   "metadata": {},
   "outputs": [
    {
     "name": "stderr",
     "output_type": "stream",
     "text": [
      "c:\\Users\\mouad\\AppData\\Local\\Programs\\Python\\Python311\\Lib\\site-packages\\sklearn\\preprocessing\\_encoders.py:975: FutureWarning: `sparse` was renamed to `sparse_output` in version 1.2 and will be removed in 1.4. `sparse_output` is ignored unless you leave `sparse` to its default value.\n",
      "  warnings.warn(\n"
     ]
    }
   ],
   "source": [
    "# Encode the labels\n",
    "encoder = OneHotEncoder(sparse=False)\n",
    "y_encoded = encoder.fit_transform(y.reshape(-1, 1))"
   ]
  },
  {
   "cell_type": "code",
   "execution_count": 83,
   "metadata": {},
   "outputs": [],
   "source": [
    "# Define the RNN model\n",
    "model_rnn = Sequential()\n",
    "model_rnn.add(Bidirectional(SimpleRNN(30, activation='relu', return_sequences=True), input_shape=(X.shape[1], X.shape[2])))\n",
    "model_rnn.add(BatchNormalization())\n",
    "model_rnn.add(SimpleRNN(32, activation='relu'))\n",
    "model_rnn.add(Dropout(0.3))\n",
    "model_rnn.add(Dense(16, activation='relu'))\n",
    "model_rnn.add(Dense(y_encoded.shape[1], activation='softmax'))"
   ]
  },
  {
   "cell_type": "code",
   "execution_count": 84,
   "metadata": {},
   "outputs": [],
   "source": [
    "# Compile the model with categorical_crossentropy loss function\n",
    "model_rnn.compile(optimizer='adam', loss='categorical_crossentropy', metrics=['accuracy'])"
   ]
  },
  {
   "cell_type": "code",
   "execution_count": 85,
   "metadata": {},
   "outputs": [],
   "source": [
    "# Add EarlyStopping as a callback\n",
    "early_stopping = EarlyStopping(monitor='val_loss', patience=10, restore_best_weights=True)"
   ]
  },
  {
   "cell_type": "code",
   "execution_count": 86,
   "metadata": {},
   "outputs": [],
   "source": [
    "# Split the dataset into training and testing sets\n",
    "X_train, X_test, y_train, y_test = train_test_split(X, y_encoded, test_size=0.2, random_state=42)"
   ]
  },
  {
   "cell_type": "code",
   "execution_count": 87,
   "metadata": {},
   "outputs": [
    {
     "name": "stdout",
     "output_type": "stream",
     "text": [
      "Epoch 1/100\n",
      "43/43 [==============================] - 3s 12ms/step - loss: 1.1741 - accuracy: 0.5418 - val_loss: 1.2873 - val_accuracy: 0.4734\n",
      "Epoch 2/100\n",
      "43/43 [==============================] - 0s 3ms/step - loss: 0.4809 - accuracy: 0.8890 - val_loss: 0.9934 - val_accuracy: 0.6006\n",
      "Epoch 3/100\n",
      "43/43 [==============================] - 0s 3ms/step - loss: 0.1630 - accuracy: 0.9800 - val_loss: 0.4857 - val_accuracy: 0.7988\n",
      "Epoch 4/100\n",
      "43/43 [==============================] - 0s 3ms/step - loss: 0.0975 - accuracy: 0.9859 - val_loss: 0.1414 - val_accuracy: 0.9941\n",
      "Epoch 5/100\n",
      "43/43 [==============================] - 0s 3ms/step - loss: 0.0600 - accuracy: 0.9919 - val_loss: 0.0559 - val_accuracy: 0.9970\n",
      "Epoch 6/100\n",
      "43/43 [==============================] - 0s 3ms/step - loss: 0.0405 - accuracy: 0.9941 - val_loss: 0.0284 - val_accuracy: 0.9970\n",
      "Epoch 7/100\n",
      "43/43 [==============================] - 0s 3ms/step - loss: 0.0462 - accuracy: 0.9904 - val_loss: 0.0258 - val_accuracy: 0.9970\n",
      "Epoch 8/100\n",
      "43/43 [==============================] - 0s 3ms/step - loss: 0.0331 - accuracy: 0.9941 - val_loss: 0.0215 - val_accuracy: 0.9970\n",
      "Epoch 9/100\n",
      "43/43 [==============================] - 0s 3ms/step - loss: 0.0220 - accuracy: 0.9956 - val_loss: 0.0157 - val_accuracy: 0.9970\n",
      "Epoch 10/100\n",
      "43/43 [==============================] - 0s 3ms/step - loss: 0.0307 - accuracy: 0.9911 - val_loss: 0.0151 - val_accuracy: 0.9970\n",
      "Epoch 11/100\n",
      "43/43 [==============================] - 0s 3ms/step - loss: 0.0173 - accuracy: 0.9963 - val_loss: 0.0101 - val_accuracy: 0.9970\n",
      "Epoch 12/100\n",
      "43/43 [==============================] - 0s 3ms/step - loss: 0.0102 - accuracy: 0.9993 - val_loss: 0.0109 - val_accuracy: 0.9970\n",
      "Epoch 13/100\n",
      "43/43 [==============================] - 0s 3ms/step - loss: 0.0169 - accuracy: 0.9956 - val_loss: 0.1187 - val_accuracy: 0.9556\n",
      "Epoch 14/100\n",
      "43/43 [==============================] - 0s 3ms/step - loss: 0.0241 - accuracy: 0.9948 - val_loss: 0.0390 - val_accuracy: 0.9911\n",
      "Epoch 15/100\n",
      "43/43 [==============================] - 0s 3ms/step - loss: 0.0185 - accuracy: 0.9956 - val_loss: 0.0504 - val_accuracy: 0.9793\n",
      "Epoch 16/100\n",
      "43/43 [==============================] - 0s 3ms/step - loss: 0.0118 - accuracy: 0.9978 - val_loss: 0.0054 - val_accuracy: 0.9970\n",
      "Epoch 17/100\n",
      "43/43 [==============================] - 0s 3ms/step - loss: 0.0122 - accuracy: 0.9978 - val_loss: 0.0105 - val_accuracy: 0.9970\n",
      "Epoch 18/100\n",
      "43/43 [==============================] - 0s 3ms/step - loss: 0.0110 - accuracy: 0.9978 - val_loss: 0.0025 - val_accuracy: 1.0000\n",
      "Epoch 19/100\n",
      "43/43 [==============================] - 0s 3ms/step - loss: 0.0125 - accuracy: 0.9978 - val_loss: 0.0167 - val_accuracy: 0.9970\n",
      "Epoch 20/100\n",
      "43/43 [==============================] - 0s 3ms/step - loss: 0.0080 - accuracy: 0.9993 - val_loss: 0.0304 - val_accuracy: 0.9970\n",
      "Epoch 21/100\n",
      "43/43 [==============================] - 0s 3ms/step - loss: 0.0206 - accuracy: 0.9948 - val_loss: 0.4905 - val_accuracy: 0.8846\n",
      "Epoch 22/100\n",
      "43/43 [==============================] - 0s 3ms/step - loss: 0.0072 - accuracy: 1.0000 - val_loss: 0.0346 - val_accuracy: 0.9970\n",
      "Epoch 23/100\n",
      "43/43 [==============================] - 0s 3ms/step - loss: 0.0090 - accuracy: 0.9963 - val_loss: 0.0214 - val_accuracy: 0.9970\n",
      "Epoch 24/100\n",
      "43/43 [==============================] - 0s 3ms/step - loss: 0.0195 - accuracy: 0.9933 - val_loss: 0.3623 - val_accuracy: 0.9172\n",
      "Epoch 25/100\n",
      "43/43 [==============================] - 0s 3ms/step - loss: 0.0186 - accuracy: 0.9926 - val_loss: 0.0891 - val_accuracy: 0.9793\n",
      "Epoch 26/100\n",
      "43/43 [==============================] - 0s 3ms/step - loss: 0.0102 - accuracy: 0.9985 - val_loss: 0.0338 - val_accuracy: 0.9911\n",
      "Epoch 27/100\n",
      "43/43 [==============================] - 0s 3ms/step - loss: 0.0139 - accuracy: 0.9956 - val_loss: 0.0017 - val_accuracy: 1.0000\n",
      "Epoch 28/100\n",
      "43/43 [==============================] - 0s 3ms/step - loss: 0.0086 - accuracy: 0.9970 - val_loss: 0.0052 - val_accuracy: 0.9970\n",
      "Epoch 29/100\n",
      "43/43 [==============================] - 0s 3ms/step - loss: 0.0309 - accuracy: 0.9911 - val_loss: 0.0106 - val_accuracy: 0.9970\n",
      "Epoch 30/100\n",
      "43/43 [==============================] - 0s 3ms/step - loss: 0.0104 - accuracy: 0.9963 - val_loss: 0.0021 - val_accuracy: 1.0000\n",
      "Epoch 31/100\n",
      "43/43 [==============================] - 0s 3ms/step - loss: 0.0093 - accuracy: 0.9970 - val_loss: 0.0075 - val_accuracy: 0.9970\n",
      "Epoch 32/100\n",
      "43/43 [==============================] - 0s 3ms/step - loss: 0.0056 - accuracy: 0.9985 - val_loss: 0.0121 - val_accuracy: 0.9970\n",
      "Epoch 33/100\n",
      "43/43 [==============================] - 0s 3ms/step - loss: 0.0063 - accuracy: 0.9985 - val_loss: 0.0049 - val_accuracy: 0.9970\n",
      "Epoch 34/100\n",
      "43/43 [==============================] - 0s 3ms/step - loss: 0.0039 - accuracy: 1.0000 - val_loss: 0.0049 - val_accuracy: 0.9970\n",
      "Epoch 35/100\n",
      "43/43 [==============================] - 0s 3ms/step - loss: 0.0031 - accuracy: 0.9993 - val_loss: 0.0028 - val_accuracy: 0.9970\n",
      "Epoch 36/100\n",
      "43/43 [==============================] - 0s 3ms/step - loss: 0.0030 - accuracy: 1.0000 - val_loss: 0.0016 - val_accuracy: 1.0000\n",
      "Epoch 37/100\n",
      "43/43 [==============================] - 0s 3ms/step - loss: 0.0023 - accuracy: 1.0000 - val_loss: 0.0062 - val_accuracy: 0.9970\n",
      "Epoch 38/100\n",
      "43/43 [==============================] - 0s 3ms/step - loss: 0.0094 - accuracy: 0.9970 - val_loss: 0.0136 - val_accuracy: 0.9970\n",
      "Epoch 39/100\n",
      "43/43 [==============================] - 0s 3ms/step - loss: 0.0245 - accuracy: 0.9933 - val_loss: 0.0034 - val_accuracy: 1.0000\n",
      "Epoch 40/100\n",
      "43/43 [==============================] - 0s 4ms/step - loss: 0.0068 - accuracy: 0.9993 - val_loss: 0.0018 - val_accuracy: 1.0000\n",
      "Epoch 41/100\n",
      "43/43 [==============================] - 0s 3ms/step - loss: 0.0069 - accuracy: 0.9985 - val_loss: 0.0071 - val_accuracy: 0.9970\n",
      "Epoch 42/100\n",
      "43/43 [==============================] - 0s 3ms/step - loss: 0.0031 - accuracy: 1.0000 - val_loss: 0.0158 - val_accuracy: 0.9970\n",
      "Epoch 43/100\n",
      "43/43 [==============================] - 0s 3ms/step - loss: 0.0053 - accuracy: 0.9985 - val_loss: 0.0175 - val_accuracy: 0.9970\n",
      "Epoch 44/100\n",
      "43/43 [==============================] - 0s 3ms/step - loss: 0.0030 - accuracy: 0.9993 - val_loss: 0.0140 - val_accuracy: 0.9970\n",
      "Epoch 45/100\n",
      "43/43 [==============================] - 0s 3ms/step - loss: 0.0052 - accuracy: 0.9978 - val_loss: 0.0122 - val_accuracy: 0.9941\n",
      "Epoch 46/100\n",
      "43/43 [==============================] - 0s 3ms/step - loss: 0.0024 - accuracy: 1.0000 - val_loss: 0.0078 - val_accuracy: 0.9970\n"
     ]
    }
   ],
   "source": [
    "# Train the model\n",
    "history = model_rnn.fit(X_train, y_train, epochs=100, validation_data=(X_test, y_test), callbacks=[early_stopping])"
   ]
  },
  {
   "cell_type": "code",
   "execution_count": 15,
   "metadata": {},
   "outputs": [
    {
     "name": "stderr",
     "output_type": "stream",
     "text": [
      "c:\\Users\\mouad\\AppData\\Local\\Programs\\Python\\Python311\\Lib\\site-packages\\keras\\src\\engine\\training.py:3103: UserWarning: You are saving your model as an HDF5 file via `model.save()`. This file format is considered legacy. We recommend using instead the native Keras format, e.g. `model.save('my_model.keras')`.\n",
      "  saving_api.save_model(\n"
     ]
    },
    {
     "data": {
      "text/plain": [
       "['rnn_scaler.joblib']"
      ]
     },
     "execution_count": 15,
     "metadata": {},
     "output_type": "execute_result"
    }
   ],
   "source": [
    "# Save the model\n",
    "model_rnn.save('rnn_model.h5')\n",
    "# Save the scaler to use it in predict.py and scale the realtime data\n",
    "joblib.dump(scaler, 'rnn_scaler.joblib')"
   ]
  },
  {
   "cell_type": "code",
   "execution_count": 88,
   "metadata": {},
   "outputs": [],
   "source": [
    "# Access the loss and accuracy values\n",
    "train_loss = history.history['loss']\n",
    "val_loss = history.history['val_loss']\n",
    "train_accuracy = history.history['accuracy']\n",
    "val_accuracy = history.history['val_accuracy']"
   ]
  },
  {
   "cell_type": "code",
   "execution_count": 92,
   "metadata": {},
   "outputs": [],
   "source": [
    "df_test = pd.read_csv('dataset/sensor_data_mouad.csv')"
   ]
  },
  {
   "cell_type": "code",
   "execution_count": 93,
   "metadata": {},
   "outputs": [
    {
     "data": {
      "text/html": [
       "<div>\n",
       "<style scoped>\n",
       "    .dataframe tbody tr th:only-of-type {\n",
       "        vertical-align: middle;\n",
       "    }\n",
       "\n",
       "    .dataframe tbody tr th {\n",
       "        vertical-align: top;\n",
       "    }\n",
       "\n",
       "    .dataframe thead th {\n",
       "        text-align: right;\n",
       "    }\n",
       "</style>\n",
       "<table border=\"1\" class=\"dataframe\">\n",
       "  <thead>\n",
       "    <tr style=\"text-align: right;\">\n",
       "      <th></th>\n",
       "      <th>Flex-Left-1-Frame-1</th>\n",
       "      <th>Flex-Left-1-Frame-2</th>\n",
       "      <th>Flex-Left-1-Frame-3</th>\n",
       "      <th>Flex-Left-1-Frame-4</th>\n",
       "      <th>Flex-Left-1-Frame-5</th>\n",
       "      <th>Flex-Left-1-Frame-6</th>\n",
       "      <th>Flex-Left-1-Frame-7</th>\n",
       "      <th>Flex-Left-1-Frame-8</th>\n",
       "      <th>Flex-Left-1-Frame-9</th>\n",
       "      <th>Flex-Left-1-Frame-10</th>\n",
       "      <th>...</th>\n",
       "      <th>Orientation-X-Right-Frame-18</th>\n",
       "      <th>Orientation-Y-Right-Frame-18</th>\n",
       "      <th>Orientation-Z-Right-Frame-18</th>\n",
       "      <th>Orientation-X-Right-Frame-19</th>\n",
       "      <th>Orientation-Y-Right-Frame-19</th>\n",
       "      <th>Orientation-Z-Right-Frame-19</th>\n",
       "      <th>Orientation-X-Right-Frame-20</th>\n",
       "      <th>Orientation-Y-Right-Frame-20</th>\n",
       "      <th>Orientation-Z-Right-Frame-20</th>\n",
       "      <th>SIGN</th>\n",
       "    </tr>\n",
       "  </thead>\n",
       "  <tbody>\n",
       "    <tr>\n",
       "      <th>0</th>\n",
       "      <td>168</td>\n",
       "      <td>163</td>\n",
       "      <td>160</td>\n",
       "      <td>146</td>\n",
       "      <td>169</td>\n",
       "      <td>172</td>\n",
       "      <td>185</td>\n",
       "      <td>198</td>\n",
       "      <td>210</td>\n",
       "      <td>218</td>\n",
       "      <td>...</td>\n",
       "      <td>0.67</td>\n",
       "      <td>-1.16</td>\n",
       "      <td>0.18</td>\n",
       "      <td>0.70</td>\n",
       "      <td>-1.12</td>\n",
       "      <td>0.16</td>\n",
       "      <td>0.68</td>\n",
       "      <td>-1.08</td>\n",
       "      <td>0.19</td>\n",
       "      <td>THANK YOU</td>\n",
       "    </tr>\n",
       "    <tr>\n",
       "      <th>1</th>\n",
       "      <td>178</td>\n",
       "      <td>176</td>\n",
       "      <td>179</td>\n",
       "      <td>175</td>\n",
       "      <td>179</td>\n",
       "      <td>176</td>\n",
       "      <td>176</td>\n",
       "      <td>186</td>\n",
       "      <td>205</td>\n",
       "      <td>207</td>\n",
       "      <td>...</td>\n",
       "      <td>0.63</td>\n",
       "      <td>-0.99</td>\n",
       "      <td>0.16</td>\n",
       "      <td>0.28</td>\n",
       "      <td>-0.98</td>\n",
       "      <td>0.33</td>\n",
       "      <td>0.47</td>\n",
       "      <td>-0.74</td>\n",
       "      <td>0.44</td>\n",
       "      <td>THANK YOU</td>\n",
       "    </tr>\n",
       "    <tr>\n",
       "      <th>2</th>\n",
       "      <td>173</td>\n",
       "      <td>172</td>\n",
       "      <td>172</td>\n",
       "      <td>178</td>\n",
       "      <td>175</td>\n",
       "      <td>184</td>\n",
       "      <td>194</td>\n",
       "      <td>201</td>\n",
       "      <td>212</td>\n",
       "      <td>212</td>\n",
       "      <td>...</td>\n",
       "      <td>0.37</td>\n",
       "      <td>-0.88</td>\n",
       "      <td>0.25</td>\n",
       "      <td>0.39</td>\n",
       "      <td>-0.82</td>\n",
       "      <td>0.47</td>\n",
       "      <td>0.65</td>\n",
       "      <td>-0.45</td>\n",
       "      <td>0.52</td>\n",
       "      <td>THANK YOU</td>\n",
       "    </tr>\n",
       "    <tr>\n",
       "      <th>3</th>\n",
       "      <td>179</td>\n",
       "      <td>179</td>\n",
       "      <td>176</td>\n",
       "      <td>176</td>\n",
       "      <td>175</td>\n",
       "      <td>170</td>\n",
       "      <td>186</td>\n",
       "      <td>207</td>\n",
       "      <td>211</td>\n",
       "      <td>210</td>\n",
       "      <td>...</td>\n",
       "      <td>0.39</td>\n",
       "      <td>-0.99</td>\n",
       "      <td>0.31</td>\n",
       "      <td>0.38</td>\n",
       "      <td>-0.88</td>\n",
       "      <td>0.51</td>\n",
       "      <td>0.66</td>\n",
       "      <td>-0.66</td>\n",
       "      <td>0.35</td>\n",
       "      <td>THANK YOU</td>\n",
       "    </tr>\n",
       "    <tr>\n",
       "      <th>4</th>\n",
       "      <td>172</td>\n",
       "      <td>172</td>\n",
       "      <td>173</td>\n",
       "      <td>172</td>\n",
       "      <td>169</td>\n",
       "      <td>169</td>\n",
       "      <td>156</td>\n",
       "      <td>149</td>\n",
       "      <td>169</td>\n",
       "      <td>179</td>\n",
       "      <td>...</td>\n",
       "      <td>0.65</td>\n",
       "      <td>-1.18</td>\n",
       "      <td>0.33</td>\n",
       "      <td>0.53</td>\n",
       "      <td>-1.05</td>\n",
       "      <td>0.35</td>\n",
       "      <td>0.30</td>\n",
       "      <td>-1.01</td>\n",
       "      <td>0.30</td>\n",
       "      <td>THANK YOU</td>\n",
       "    </tr>\n",
       "  </tbody>\n",
       "</table>\n",
       "<p>5 rows × 441 columns</p>\n",
       "</div>"
      ],
      "text/plain": [
       "   Flex-Left-1-Frame-1  Flex-Left-1-Frame-2  Flex-Left-1-Frame-3  \\\n",
       "0                  168                  163                  160   \n",
       "1                  178                  176                  179   \n",
       "2                  173                  172                  172   \n",
       "3                  179                  179                  176   \n",
       "4                  172                  172                  173   \n",
       "\n",
       "   Flex-Left-1-Frame-4  Flex-Left-1-Frame-5  Flex-Left-1-Frame-6  \\\n",
       "0                  146                  169                  172   \n",
       "1                  175                  179                  176   \n",
       "2                  178                  175                  184   \n",
       "3                  176                  175                  170   \n",
       "4                  172                  169                  169   \n",
       "\n",
       "   Flex-Left-1-Frame-7  Flex-Left-1-Frame-8  Flex-Left-1-Frame-9  \\\n",
       "0                  185                  198                  210   \n",
       "1                  176                  186                  205   \n",
       "2                  194                  201                  212   \n",
       "3                  186                  207                  211   \n",
       "4                  156                  149                  169   \n",
       "\n",
       "   Flex-Left-1-Frame-10  ...  Orientation-X-Right-Frame-18  \\\n",
       "0                   218  ...                          0.67   \n",
       "1                   207  ...                          0.63   \n",
       "2                   212  ...                          0.37   \n",
       "3                   210  ...                          0.39   \n",
       "4                   179  ...                          0.65   \n",
       "\n",
       "   Orientation-Y-Right-Frame-18  Orientation-Z-Right-Frame-18  \\\n",
       "0                         -1.16                          0.18   \n",
       "1                         -0.99                          0.16   \n",
       "2                         -0.88                          0.25   \n",
       "3                         -0.99                          0.31   \n",
       "4                         -1.18                          0.33   \n",
       "\n",
       "   Orientation-X-Right-Frame-19  Orientation-Y-Right-Frame-19  \\\n",
       "0                          0.70                         -1.12   \n",
       "1                          0.28                         -0.98   \n",
       "2                          0.39                         -0.82   \n",
       "3                          0.38                         -0.88   \n",
       "4                          0.53                         -1.05   \n",
       "\n",
       "   Orientation-Z-Right-Frame-19  Orientation-X-Right-Frame-20  \\\n",
       "0                          0.16                          0.68   \n",
       "1                          0.33                          0.47   \n",
       "2                          0.47                          0.65   \n",
       "3                          0.51                          0.66   \n",
       "4                          0.35                          0.30   \n",
       "\n",
       "   Orientation-Y-Right-Frame-20  Orientation-Z-Right-Frame-20       SIGN  \n",
       "0                         -1.08                          0.19  THANK YOU  \n",
       "1                         -0.74                          0.44  THANK YOU  \n",
       "2                         -0.45                          0.52  THANK YOU  \n",
       "3                         -0.66                          0.35  THANK YOU  \n",
       "4                         -1.01                          0.30  THANK YOU  \n",
       "\n",
       "[5 rows x 441 columns]"
      ]
     },
     "execution_count": 93,
     "metadata": {},
     "output_type": "execute_result"
    }
   ],
   "source": [
    "df_test.head()"
   ]
  },
  {
   "cell_type": "code",
   "execution_count": 94,
   "metadata": {},
   "outputs": [],
   "source": [
    "df_test.dropna(inplace=True)"
   ]
  },
  {
   "cell_type": "code",
   "execution_count": 95,
   "metadata": {},
   "outputs": [],
   "source": [
    "X_test_kamal = df_test.iloc[:, :-1].values\n",
    "y_test_kamal = df_test.iloc[:, -1].values"
   ]
  },
  {
   "cell_type": "code",
   "execution_count": 96,
   "metadata": {},
   "outputs": [],
   "source": [
    "X_test_kamal = scaler.transform(X_test_kamal)\n",
    "X_test_kamal = X_test_kamal.reshape((X_test_kamal.shape[0], 1, X_test_kamal.shape[1]))"
   ]
  },
  {
   "cell_type": "code",
   "execution_count": 97,
   "metadata": {},
   "outputs": [],
   "source": [
    "y_test_kamal_encoder = encoder.transform(y_test_kamal.reshape(-1, 1))"
   ]
  },
  {
   "cell_type": "code",
   "execution_count": 98,
   "metadata": {},
   "outputs": [],
   "source": [
    "def predict(X, y_test):\n",
    "    y_pred = model_rnn.predict(X)\n",
    "    # Convert predictions to classes\n",
    "    y_pred_classes = np.argmax(y_pred, axis=1)\n",
    "    y_test_classes = np.argmax(y_test, axis=1)\n",
    "    # Calculate the accuracy\n",
    "    accuracy = accuracy_score(y_test_classes, y_pred_classes)\n",
    "    print(f\"Accuracy on the test set: {accuracy * 100:.2f}%\")\n",
    "\n",
    "    # Calculate precision, recall, and F1-score\n",
    "    precision = precision_score(y_test_classes, y_pred_classes, average='weighted')\n",
    "    recall = recall_score(y_test_classes, y_pred_classes, average='weighted')\n",
    "    f1 = f1_score(y_test_classes, y_pred_classes, average='weighted')\n",
    "\n",
    "    print(f\"Precision: {precision:.2f}\")\n",
    "    print(f\"Recall: {recall:.2f}\")\n",
    "    print(f\"F1-score: {f1:.2f}\")"
   ]
  },
  {
   "cell_type": "code",
   "execution_count": 99,
   "metadata": {},
   "outputs": [
    {
     "name": "stdout",
     "output_type": "stream",
     "text": [
      "19/19 [==============================] - 0s 2ms/step\n",
      "Accuracy on the test set: 99.67%\n",
      "Precision: 1.00\n",
      "Recall: 1.00\n",
      "F1-score: 1.00\n"
     ]
    }
   ],
   "source": [
    "predict(X_test_kamal, y_test_kamal_encoder)"
   ]
  },
  {
   "cell_type": "code",
   "execution_count": 89,
   "metadata": {},
   "outputs": [
    {
     "name": "stdout",
     "output_type": "stream",
     "text": [
      "11/11 [==============================] - 0s 2ms/step\n"
     ]
    }
   ],
   "source": [
    "# Make predictions on the test set\n",
    "y_pred = model_rnn.predict(X_test)"
   ]
  },
  {
   "cell_type": "code",
   "execution_count": 90,
   "metadata": {},
   "outputs": [],
   "source": [
    "# Convert predictions to classes\n",
    "y_pred_classes = np.argmax(y_pred, axis=1)\n",
    "y_test_classes = np.argmax(y_test, axis=1)"
   ]
  },
  {
   "cell_type": "code",
   "execution_count": 91,
   "metadata": {},
   "outputs": [
    {
     "name": "stdout",
     "output_type": "stream",
     "text": [
      "Accuracy on the test set: 100.00%\n",
      "Precision: 1.00\n",
      "Recall: 1.00\n",
      "F1-score: 1.00\n"
     ]
    }
   ],
   "source": [
    "# Calculate the accuracy\n",
    "accuracy = accuracy_score(y_test_classes, y_pred_classes)\n",
    "print(f\"Accuracy on the test set: {accuracy * 100:.2f}%\")\n",
    "\n",
    "# Calculate precision, recall, and F1-score\n",
    "precision = precision_score(y_test_classes, y_pred_classes, average='weighted')\n",
    "recall = recall_score(y_test_classes, y_pred_classes, average='weighted')\n",
    "f1 = f1_score(y_test_classes, y_pred_classes, average='weighted')\n",
    "\n",
    "print(f\"Precision: {precision:.2f}\")\n",
    "print(f\"Recall: {recall:.2f}\")\n",
    "print(f\"F1-score: {f1:.2f}\")"
   ]
  },
  {
   "cell_type": "code",
   "execution_count": 20,
   "metadata": {},
   "outputs": [
    {
     "name": "stdout",
     "output_type": "stream",
     "text": [
      "Confusion Matrix:\n",
      "[[58  0  0  0  0  0]\n",
      " [ 0 64  0  0  0  0]\n",
      " [ 0  0 53  0  0  0]\n",
      " [ 0  0  0 62  0  0]\n",
      " [ 0  0  0  0 51  0]\n",
      " [ 0  0  0  0  0 70]]\n"
     ]
    }
   ],
   "source": [
    "# Confusion matrix\n",
    "cm = confusion_matrix(y_test_classes, y_pred_classes)\n",
    "print(\"Confusion Matrix:\")\n",
    "print(cm)"
   ]
  },
  {
   "cell_type": "code",
   "execution_count": 21,
   "metadata": {},
   "outputs": [
    {
     "data": {
      "image/png": "[encoded data removed]",
      "text/plain": [
       "<Figure size 1000x500 with 1 Axes>"
      ]
     },
     "metadata": {},
     "output_type": "display_data"
    }
   ],
   "source": [
    "# Plot loss\n",
    "plt.figure(figsize=(10, 5))\n",
    "plt.plot(train_loss, label='Training Loss')\n",
    "plt.plot(val_loss, label='Validation Loss')\n",
    "plt.title('Training and Validation Loss')\n",
    "plt.xlabel('Epoch')\n",
    "plt.ylabel('Loss')\n",
    "plt.legend()\n",
    "plt.show()"
   ]
  },
  {
   "cell_type": "code",
   "execution_count": 22,
   "metadata": {},
   "outputs": [
    {
     "data": {
      "image/png": "[encoded data removed]",
      "text/plain": [
       "<Figure size 1000x500 with 1 Axes>"
      ]
     },
     "metadata": {},
     "output_type": "display_data"
    }
   ],
   "source": [
    "# Plot accuracy\n",
    "plt.figure(figsize=(10, 5))\n",
    "plt.plot(train_accuracy, label='Training Accuracy')\n",
    "plt.plot(val_accuracy, label='Validation Accuracy')\n",
    "plt.title('Training and Validation Accuracy')\n",
    "plt.xlabel('Epoch')\n",
    "plt.ylabel('Accuracy')\n",
    "plt.legend()\n",
    "plt.show()"
   ]
  }
 ],
 "metadata": {
  "kernelspec": {
   "display_name": "Python 3",
   "language": "python",
   "name": "python3"
  },
  "language_info": {
   "codemirror_mode": {
    "name": "ipython",
    "version": 3
   },
   "file_extension": ".py",
   "mimetype": "text/x-python",
   "name": "python",
   "nbconvert_exporter": "python",
   "pygments_lexer": "ipython3",
   "version": "3.11.5"
  }
 },
 "nbformat": 4,
 "nbformat_minor": 2
}
